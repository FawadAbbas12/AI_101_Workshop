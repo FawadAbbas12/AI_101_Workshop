{
  "cells": [
    {
      "attachments": {},
      "cell_type": "markdown",
      "id": "ea3d60ed",
      "metadata": {
        "id": "ea3d60ed"
      },
      "source": [
        "## Intro to Python <table class=\"tfo-notebook-buttons\" align=\"right\" style=\"margin-top:-55px\">\n",
        "  <td>\n",
        "      <a target=\"_blank\" href=\"https://www.python.org/doc/\"><img src=\"https://external-content.duckduckgo.com/iu/?u=https%3A%2F%2Fwww.baptiste-donaux.fr%2Fpackager-application-python-avec-dependances%2Fpython.png&f=1&nofb=1\"  width=\"60\" height=\"50\" /><p style='margin-left:8px'>PYTHON</p></a>\n",
        "  </td>\n",
        " </table>"
      ]
    },
    {
      "cell_type": "code",
      "execution_count": null,
      "id": "lnYyKGWkq4RF",
      "metadata": {
        "id": "lnYyKGWkq4RF"
      },
      "outputs": [],
      "source": [
        "!git clone https://github.com/FawadAbbas12/AI_101_Workshop/ -b day2\n",
        "!mv AI_101_Workshop"
      ]
    },
    {
      "attachments": {},
      "cell_type": "markdown",
      "id": "23c86101",
      "metadata": {
        "heading_collapsed": true,
        "id": "23c86101"
      },
      "source": [
        "## Data type 🏛\n",
        "Python has the following data types built-in by default, in these categories        \n",
        "```\n",
        "    Text Type     : str\n",
        "    Numeric Types : int, float, complex\n",
        "    Sequence Types: list, tuple, range\n",
        "    Mapping Type  : dict\n",
        "    Set Types     : set, frozenset\n",
        "    Boolean Type  : bool\n",
        "    Binary Types  : bytes, bytearray, memoryview\n",
        "```"
      ]
    },
    {
      "cell_type": "code",
      "execution_count": null,
      "id": "e0b4a467",
      "metadata": {
        "ExecuteTime": {
          "end_time": "2022-01-06T04:26:46.783141Z",
          "start_time": "2022-01-06T04:26:46.781267Z"
        },
        "hidden": true,
        "id": "e0b4a467"
      },
      "outputs": [],
      "source": [
        "prompt = 'Enter your name:'\n",
        "message = str('Invalid option')\n",
        "\n",
        "number = 3\n",
        "array_index = int(32)\n",
        "\n",
        "circle_area = 45.356\n",
        "temperature = float(30.55)"
      ]
    },
    {
      "cell_type": "code",
      "execution_count": null,
      "id": "tN6mMwmB9dXH",
      "metadata": {
        "id": "tN6mMwmB9dXH"
      },
      "outputs": [],
      "source": [
        "array = [1, 2, 3]\n",
        "emptyArray = []\n",
        "alsoEmptyArray = list()\n",
        "\n",
        "length_and_area = (45, 300.456)\n",
        "coordinates = tuple((32, 45, 100))\n",
        "# coordinates.index(32, 0, 1)\n",
        "\n",
        "cellphone_dictionary ={\n",
        "    \"khan\":3245332,\n",
        "    \"MR X.\":000000\n",
        "}"
      ]
    },
    {
      "attachments": {},
      "cell_type": "markdown",
      "id": "d4b541b8",
      "metadata": {
        "heading_collapsed": true,
        "hidden": true,
        "id": "d4b541b8"
      },
      "source": [
        "### Get datatype of variable \n",
        "  to get data type of a variable pytoh have a built in function named type<br>\n",
        "  <code> <b><i>type(obj)</code></i></b><br>\n",
        "  obj = object for which data type is to be verified"
      ]
    },
    {
      "cell_type": "code",
      "execution_count": null,
      "id": "9f9266e6",
      "metadata": {
        "ExecuteTime": {
          "end_time": "2022-01-06T04:26:49.438679Z",
          "start_time": "2022-01-06T04:26:49.436068Z"
        },
        "hidden": true,
        "id": "9f9266e6"
      },
      "outputs": [],
      "source": [
        "print(type(cellphone_dictionary))"
      ]
    },
    {
      "attachments": {},
      "cell_type": "markdown",
      "id": "820f54cd",
      "metadata": {
        "heading_collapsed": true,
        "hidden": true,
        "id": "820f54cd"
      },
      "source": [
        "### Get list of member functions \n",
        "  <code> <b><i>dir(obj)</code></i></b><br>\n",
        "  <i><b>dir<i></b> is a python3's bulitin function whihc iterates over all member functions and prints their names. <br>\n",
        "    one simple trick of ide can be used to get immidiate information about object by hovering over it pressing <code> tab</code> or <code> shift + tab </code> or in colab you can also use <code> Ctrl + space </code>\n"
      ]
    },
    {
      "cell_type": "code",
      "execution_count": null,
      "id": "4efe46b1",
      "metadata": {
        "ExecuteTime": {
          "end_time": "2022-01-06T04:56:51.420540Z",
          "start_time": "2022-01-06T04:56:51.414282Z"
        },
        "collapsed": true,
        "hidden": true,
        "id": "4efe46b1"
      },
      "outputs": [],
      "source": [
        "dir(cellphone_dictionary)"
      ]
    },
    {
      "attachments": {},
      "cell_type": "markdown",
      "id": "94c5ee49",
      "metadata": {
        "heading_collapsed": true,
        "id": "94c5ee49"
      },
      "source": [
        "## Conditions and loops ↪ 🏃"
      ]
    },
    {
      "attachments": {},
      "cell_type": "markdown",
      "id": "5c533439",
      "metadata": {
        "heading_collapsed": true,
        "hidden": true,
        "id": "5c533439"
      },
      "source": [
        "### Conditions 👍 🙅\n",
        "    Equals    : a == b\n",
        "    Not Equals: a != b\n",
        "    Less than : a < b\n",
        "    Greater than: a > b\n",
        "    Less than or equal to   : a <= b\n",
        "    Greater than or equal to: a >= b\n",
        "    and operator: and\n",
        "    or operator : or\n"
      ]
    },
    {
      "cell_type": "code",
      "execution_count": null,
      "id": "52c012f6",
      "metadata": {
        "ExecuteTime": {
          "end_time": "2022-01-06T05:12:44.318050Z",
          "start_time": "2022-01-06T05:12:44.315610Z"
        },
        "hidden": true,
        "id": "52c012f6"
      },
      "outputs": [],
      "source": [
        "a = 1\n",
        "b = 2\n",
        "if (a < b):\n",
        "    print('a is less than b')\n",
        "    # print(f'{a} is less than {b}')\n",
        "# else:\n",
        "#     print(f'{a} is grater than {b}')\n",
        "\n",
        "#######################################\n",
        "# exercise 1 uncomment line# 5        #\n",
        "#######################################\n",
        "\n",
        "#######################################\n",
        "# exercise 2 uncomment line# 5~8      #\n",
        "#######################################"
      ]
    },
    {
      "cell_type": "code",
      "execution_count": null,
      "id": "dc595819",
      "metadata": {
        "ExecuteTime": {
          "end_time": "2022-01-06T05:10:07.835760Z",
          "start_time": "2022-01-06T05:10:07.801767Z"
        },
        "hidden": true,
        "id": "dc595819"
      },
      "outputs": [],
      "source": [
        "# if else ladder \n",
        "a, b, c = (1,2,3)\n",
        "biggest = -1\n",
        "if a > b and a > c:\n",
        "    biggest = a\n",
        "elif b > c:\n",
        "    biggest = b\n",
        "else:\n",
        "    biggest = c\n",
        "print(f'{biggest} is the biggest number')\n",
        "#######################################################\n",
        "# exercise Change this code to print smallest Number #\n",
        "#######################################################"
      ]
    },
    {
      "cell_type": "code",
      "execution_count": null,
      "id": "-V_VGIvZHNWy",
      "metadata": {
        "id": "-V_VGIvZHNWy"
      },
      "outputs": [],
      "source": [
        "# short hand notation\n",
        "_str = f'{a} is {\"grater\" if a>b else \"less\"} than {b}'\n",
        "print(_str)"
      ]
    },
    {
      "attachments": {},
      "cell_type": "markdown",
      "id": "vcrlgTg_OqEN",
      "metadata": {
        "id": "vcrlgTg_OqEN"
      },
      "source": [
        "## Lists and dictionaries 📔"
      ]
    },
    {
      "attachments": {},
      "cell_type": "markdown",
      "id": "l4bqf8pMYN2P",
      "metadata": {
        "id": "l4bqf8pMYN2P"
      },
      "source": [
        "Lists enable you to store a set of items in place. Lists take the form of arrays in other languages like Java.\n",
        "\n",
        "A list in Python is created using the following syntax:\n",
        "<br><code> listname = [item1, item2, item3, ...]</code>"
      ]
    },
    {
      "cell_type": "code",
      "execution_count": null,
      "id": "DNJ-iSRoOrdG",
      "metadata": {
        "id": "DNJ-iSRoOrdG"
      },
      "outputs": [],
      "source": [
        "aiProblmodelems = ['Classification', 'Regression', 'clustering', 'segmentatoin', 'signalprocessing']\n",
        "print(aiProblmodelems)"
      ]
    },
    {
      "cell_type": "code",
      "execution_count": null,
      "id": "D_NlgjjqYgDM",
      "metadata": {
        "id": "D_NlgjjqYgDM"
      },
      "outputs": [],
      "source": [
        "# access list item\n",
        "modelOptimizers = ['Adamax', 'Adam', 'sgd', 'adabost']\n",
        "print(modelOptimizers[0])\n",
        "\n",
        "print(modelOptimizers[-1])\n",
        "\n",
        "modelOptimizers.append('Adagrad') \n",
        "print(modelOptimizers)\n",
        "\n",
        "modelOptimizers.insert(2,'RMSprop') \n",
        "print(modelOptimizers)\n",
        "\n",
        "modelOptimizers.remove('adabost') \n",
        "print(modelOptimizers)\n",
        "\n"
      ]
    },
    {
      "attachments": {},
      "cell_type": "markdown",
      "id": "kUTVC4trZhFU",
      "metadata": {
        "id": "kUTVC4trZhFU"
      },
      "source": [
        "### Slicing a list\n",
        "To derive a segment, you need to specify the index of the first element and where to stop slicing.\n",
        "\n",
        "In Python, we use a colon(:) as a slicing operator. Slicing follows the following syntax.<br>\n",
        "<code> list_name[Index_start:Index_end] </code>\n"
      ]
    },
    {
      "cell_type": "code",
      "execution_count": null,
      "id": "96Fp8iCRYfqS",
      "metadata": {
        "id": "96Fp8iCRYfqS"
      },
      "outputs": [],
      "source": [
        "layers = ['Dense', 'conv2d', 'Activation', 'batchNorm', 'Dropout']\n",
        "print(layers[0:3])\n",
        "print(layers[:3]) \n",
        "print(layers[3:])\n",
        "    \n",
        "#######################################################\n",
        "# exercise 1: list items including index 2 and 4      #\n",
        "# Hint:                                               #\n",
        "#      last number in range is not included           #\n",
        "#######################################################"
      ]
    },
    {
      "attachments": {},
      "cell_type": "markdown",
      "id": "fD4jZzPiaumS",
      "metadata": {
        "id": "fD4jZzPiaumS"
      },
      "source": [
        "# Dictionaries\n",
        "Dictionaries are used to store data values in key:value pairs.\n",
        "A dictionary is a collection which is ordered*, changeable and do not allow duplicates.\n",
        "\n",
        "    dict = {\n",
        "        \"key\": \"value\",\n",
        "        \"string\": \"Name\",\n",
        "        \"number\": 40,\n",
        "        \"list \" : [item1, item2, ....]\n",
        "        \"dict \" : {'key', 'value'}\n",
        "    }"
      ]
    },
    {
      "cell_type": "code",
      "execution_count": null,
      "id": "KcLN3q61YfP7",
      "metadata": {
        "id": "KcLN3q61YfP7"
      },
      "outputs": [],
      "source": [
        "modelOutputLog =\t{\n",
        "   \"lossFunctoin\" : \"Categorical Cross Entrpy\", \n",
        "   \"ModelAccuracy\": 0.932,\n",
        "   \"ModelLoss\"   : 0.231,\n",
        "   \"ValidatoinLoss\": 0.321\n",
        "\n",
        "}\n",
        "print(modelOutputLog)"
      ]
    },
    {
      "cell_type": "code",
      "execution_count": null,
      "id": "Nyc7h7fBaBIN",
      "metadata": {
        "id": "Nyc7h7fBaBIN"
      },
      "outputs": [],
      "source": [
        "#accessing dictionary items\n",
        "print(modelOutputLog[\"lossFunctoin\"])\n",
        "print(modelOutputLog.items())\n",
        "print(modelOutputLog.keys())\n",
        "print(modelOutputLog.values())"
      ]
    },
    {
      "cell_type": "code",
      "execution_count": null,
      "id": "GL5HpltcaAsz",
      "metadata": {
        "id": "GL5HpltcaAsz"
      },
      "outputs": [],
      "source": [
        "# update dictionary items\n",
        "modelOutputLog.update({\"name\": \"Resnet\"})\n",
        "print(modelOutputLog)\n",
        "#delete item from dictionary \n",
        "del modelOutputLog['ModelAccuracy']\n",
        "print(modelOutputLog)"
      ]
    },
    {
      "cell_type": "code",
      "execution_count": null,
      "id": "YMnsqZbpdL2c",
      "metadata": {
        "id": "YMnsqZbpdL2c"
      },
      "outputs": [],
      "source": [
        "#iterate over dictionary\n",
        "for key, item in modelOutputLog.items():\n",
        "    print(f'modelOutputLog[\"{key}\"] = {item}')"
      ]
    },
    {
      "cell_type": "code",
      "execution_count": null,
      "id": "IPil7yQOiYCf",
      "metadata": {
        "id": "IPil7yQOiYCf"
      },
      "outputs": [],
      "source": [
        "#Nested Dictionaries \n",
        "multiOutputModelLog={\n",
        "    'loss_function':{\n",
        "        'brach1':\"CCE\",\n",
        "        'brach2':\"MSE\",\n",
        "        'brach3':\"BCE\",\n",
        "        }, \n",
        "    'loss':{\n",
        "        'brach1':.0356,\n",
        "        'brach2':.0756,\n",
        "        'brach3':.0056,\n",
        "        },\n",
        "    'val_loss':{\n",
        "        'brach1':.0356,\n",
        "        'brach2':.0756,\n",
        "        'brach3':.0056,\n",
        "        },\n",
        "    'accuracy':{\n",
        "        'brach1':.9235,\n",
        "        'brach2':.6234,\n",
        "        'brach3':.5423,\n",
        "        }\n",
        "}\n",
        "print(multiOutputModelLog)\n",
        "\n",
        "#######################################################\n",
        "# exercise 1: print loss  for 3rd branch              #\n",
        "# Hint:                                               #\n",
        "#      you may need to use multiple []                #\n",
        "#######################################################"
      ]
    },
    {
      "attachments": {},
      "cell_type": "markdown",
      "id": "43a92c14",
      "metadata": {
        "heading_collapsed": true,
        "hidden": true,
        "id": "43a92c14"
      },
      "source": [
        "### Loops 🔄\n",
        "Python have two major loops <br><br>\n",
        "    <code> For Loop </code><br>\n",
        "        &emsp; for (place holders ) in (range, list, iterator):<br>\n",
        "            &emsp;&emsp;&emsp;do action<br>\n",
        "            \n",
        "<code> While Loop </code><br>\n",
        "    &emsp; while condition:<br>\n",
        "            &emsp;&emsp;&emsp;do action<br>"
      ]
    },
    {
      "attachments": {},
      "cell_type": "markdown",
      "id": "6KVeXyyeCiT7",
      "metadata": {
        "id": "6KVeXyyeCiT7"
      },
      "source": [
        "### for loop"
      ]
    },
    {
      "cell_type": "code",
      "execution_count": null,
      "id": "ea4aaacf",
      "metadata": {
        "ExecuteTime": {
          "end_time": "2022-01-06T05:32:06.868269Z",
          "start_time": "2022-01-06T05:32:06.865191Z"
        },
        "hidden": true,
        "id": "ea4aaacf"
      },
      "outputs": [],
      "source": [
        "# range is a python's builtin function which returnes a list of numbers \n",
        "# in the given range it takes 3 arguments which are as following\n",
        "# arg1: starting_Point  arg2: end_point   arg_3: Step_size\n",
        "\n",
        "for x in range(2, 30, 3):\n",
        "  print(x, end=', ')\n",
        "\n",
        "#######################################################\n",
        "# exercise 1: change above given loop to only print   #\n",
        "# even numbers between 4 and 100                      #\n",
        "# Hint:                                               #\n",
        "#      start from 4 and increment wiht 2              #\n",
        "#######################################################\n",
        "\n",
        "#######################################################\n",
        "# exercise 2: uncomment line number 22~25 and rerun   #\n",
        "# Hint:                                               #\n",
        "#      zip is used to merge multiple iterators into   #\n",
        "#      one single iteratr wiht valued mapeed on index #    \n",
        "#######################################################\n",
        "\n",
        "# fruits = [\"apple\", \"banana\", \"cherry\", \"kiwi\", \"mango\"]\n",
        "# prices  = [1,2,3,4,5]\n",
        "# for fruit, price in zip(fruits, prices):\n",
        "#     print(f\"{fruit} is sold for {price}\")"
      ]
    },
    {
      "attachments": {},
      "cell_type": "markdown",
      "id": "uaovD2kuCbd6",
      "metadata": {
        "id": "uaovD2kuCbd6"
      },
      "source": [
        "#### Continue and Break "
      ]
    },
    {
      "cell_type": "code",
      "execution_count": null,
      "id": "bZhm8qQfH09S",
      "metadata": {
        "id": "bZhm8qQfH09S"
      },
      "outputs": [],
      "source": []
    },
    {
      "attachments": {},
      "cell_type": "markdown",
      "id": "RlxhrxvVClgS",
      "metadata": {
        "id": "RlxhrxvVClgS"
      },
      "source": [
        "### while Loop"
      ]
    },
    {
      "cell_type": "code",
      "execution_count": null,
      "id": "bfe3f91f",
      "metadata": {
        "ExecuteTime": {
          "end_time": "2022-01-06T05:36:15.808670Z",
          "start_time": "2022-01-06T05:36:11.315039Z"
        },
        "hidden": true,
        "id": "bfe3f91f"
      },
      "outputs": [],
      "source": [
        "number = 1\n",
        "while int(number) > 0:\n",
        "    number = input(\"Enter a +ve number or -ve/0 to end \")\n",
        "# else:\n",
        "#     print(\"so it finally end.\" )\n",
        "\n",
        "###################################################\n",
        "# exercise 1: uncomment line number 4&5 and rerun #\n",
        "# exercise 2: update loop to also exit for number #\n",
        "# bigger than 20.                                 # \n",
        "# Hint use 'and' or break statement               #\n",
        "###################################################"
      ]
    },
    {
      "attachments": {},
      "cell_type": "markdown",
      "id": "68845406",
      "metadata": {
        "heading_collapsed": true,
        "hidden": true,
        "id": "68845406"
      },
      "source": [
        "### List Comprehention"
      ]
    },
    {
      "cell_type": "code",
      "execution_count": null,
      "id": "46c629cc",
      "metadata": {
        "ExecuteTime": {
          "end_time": "2022-01-06T04:59:22.284733Z",
          "start_time": "2022-01-06T04:59:22.263173Z"
        },
        "hidden": true,
        "id": "46c629cc"
      },
      "outputs": [],
      "source": [
        "fruits = [\"apple\", \"banana\", \"cherry\", \"kiwi\", \"mango\"]\n",
        "newlist = []\n",
        "for x in fruits:\n",
        "  if \"a\" in x:\n",
        "    newlist.append(x)\n",
        "print(newlist) "
      ]
    },
    {
      "cell_type": "code",
      "execution_count": null,
      "id": "0cac8023",
      "metadata": {
        "hidden": true,
        "id": "0cac8023"
      },
      "outputs": [],
      "source": [
        "fruits = [\"apple\", \"banana\", \"cherry\", \"kiwi\", \"mango\"]\n",
        "newlist = [x for x in fruits if \"a\" in x]\n",
        "print(newlist) "
      ]
    },
    {
      "attachments": {},
      "cell_type": "markdown",
      "id": "d30752d5",
      "metadata": {
        "heading_collapsed": true,
        "id": "d30752d5"
      },
      "source": [
        "## Functions \n",
        "A function is a block of code which only runs when it is called.<br>\n",
        "You can pass data, known as parameters, into a function.<br>\n",
        "A function may and maynot return data as a result.<br>\n",
        "\n",
        "<b>Syntax</b><br>\n",
        "\n",
        "    def functionName(parameters .....):\n",
        "        do action                      \n",
        "        return data "
      ]
    },
    {
      "cell_type": "code",
      "execution_count": null,
      "id": "5c649088",
      "metadata": {
        "ExecuteTime": {
          "end_time": "2022-01-06T05:52:44.718786Z",
          "start_time": "2022-01-06T05:52:44.716353Z"
        },
        "hidden": true,
        "id": "5c649088"
      },
      "outputs": [],
      "source": [
        "def print_n_time(message, count):\n",
        "    for i in range(count):\n",
        "        print(message)\n",
        "\n",
        "def debug_log(level, debug_msg):\n",
        "    import time # time is an external module will be discussed later \n",
        "    if level >5:\n",
        "        print(f\"[ DBG ] {debug_msg}\")\n",
        "    else :\n",
        "        print(f\"[ DBG ] [{time.time()}] {debug_msg}\")\n",
        "\n",
        "debug_log(1,\"hello\")\n",
        "debug_log(8,\"hello\")\n",
        "\n",
        "########################################\n",
        "# exercise 1: add your own debug level #\n",
        "# hint:                                #\n",
        "# add a new elif statemtn              # \n",
        "########################################"
      ]
    },
    {
      "cell_type": "code",
      "execution_count": null,
      "id": "K-Y5bDBIJtzt",
      "metadata": {
        "id": "K-Y5bDBIJtzt"
      },
      "outputs": [],
      "source": [
        "def line(m, x, c):\n",
        "    return m*x + c\n",
        "\n",
        "def predict_next(weights, _input):\n",
        "    pred = line(weights, _input, 0)\n",
        "    return _input, pred    \n",
        "\n",
        "_input, prediction = predict_next(12,4)\n",
        "print(f'Input: {_input} Prediction: {prediction}')\n",
        "\n",
        "#######################################\n",
        "# exercise 1: modify predict_next to  #\n",
        "# take extra argument named as biase  #\n",
        "# and add it to line function's       #\n",
        "# input(c)                            #\n",
        "# hint:                               #\n",
        "# functio signature should look like  #\n",
        "# predict_next(weight, _input, biase) # \n",
        "#######################################\n"
      ]
    },
    {
      "cell_type": "code",
      "execution_count": null,
      "id": "SKKQLrHJRBMQ",
      "metadata": {
        "id": "SKKQLrHJRBMQ"
      },
      "outputs": [],
      "source": [
        "#######################################\n",
        "# exercise 1: write a function named  #\n",
        "# relu with following functinality    #\n",
        "# return 0 if number is -ve or same   #\n",
        "# number is returned                  #\n",
        "# hint:                               #\n",
        "# Use IF-else and return              #\n",
        "# functio signature                   #\n",
        "# def relu(input)                     # \n",
        "#######################################\n",
        "\n",
        "\n",
        "# def sigmoid(x):\n",
        "#     z = (1./(1. + np.exp(-x)))\n",
        "#     return z"
      ]
    },
    {
      "attachments": {},
      "cell_type": "markdown",
      "id": "96107ff0",
      "metadata": {
        "heading_collapsed": true,
        "id": "96107ff0"
      },
      "source": [
        "## Classes & Module 📘\n",
        "Python is an object oriented programming language.<br>\n",
        "Almost everything in Python is an object, with its properties and methods.<br>\n",
        "A Class is like an object constructor, or a \"blueprint\" for creating objects.<br>"
      ]
    },
    {
      "cell_type": "code",
      "execution_count": null,
      "id": "07aef31f",
      "metadata": {
        "ExecuteTime": {
          "end_time": "2022-01-06T06:13:21.077720Z",
          "start_time": "2022-01-06T06:13:21.054807Z"
        },
        "hidden": true,
        "id": "07aef31f"
      },
      "outputs": [],
      "source": [
        "import random\n",
        "class Dice:\n",
        "    def __init__(self):\n",
        "        self.dice_val = (1,2,3,4,5,6)\n",
        "    def roll(self):\n",
        "        print(f'({random.randint(1,6)}, {random.randint(1,6)})')\n",
        "    def roll_(self):\n",
        "        print(f'({random.choice(self.dice_val)}, {random.choice(self.dice_val)})')\n",
        "dice = Dice()\n",
        "dice.roll_()\n",
        "dice.roll()"
      ]
    },
    {
      "attachments": {},
      "cell_type": "markdown",
      "id": "0a99caa9",
      "metadata": {
        "heading_collapsed": true,
        "hidden": true,
        "id": "0a99caa9"
      },
      "source": [
        "### Inheritance"
      ]
    },
    {
      "cell_type": "code",
      "execution_count": null,
      "id": "2bb61f21",
      "metadata": {
        "ExecuteTime": {
          "end_time": "2022-01-06T06:02:58.818411Z",
          "start_time": "2022-01-06T06:02:58.747741Z"
        },
        "code_folding": [
          0
        ],
        "hidden": true,
        "id": "2bb61f21"
      },
      "outputs": [],
      "source": [
        "class Point:\n",
        "    def __init__(self,x=12,y=12):\n",
        "        self.x=x\n",
        "        self.y=y\n",
        "    def mov(self):\n",
        "        print(\"move\")\n",
        "    def draw(self):\n",
        "        print(\"draw\") \n",
        "    def number(self,number):\n",
        "        print(number)   \n",
        "           \n",
        "#inheritance in classes\n",
        "class DrawPoint(Point):\n",
        "    def __init__(self,x,y):\n",
        "        super(DrawPoint, self).__init__(x,y)\n",
        "    def show(self):\n",
        "        print(f\"Number1: {self.x}, Number2: {self.y}\")\n",
        "\n",
        "point1 = Point()        \n",
        "point1.x = 10\n",
        "point1.draw()\n",
        "point1.number(point1.x)\n",
        "point1.number(point1.y)\n",
        "\n",
        "point2 = Point(43,53)\n",
        "point1.number(point2.x)\n",
        "point1.number(point2.y)\n",
        "\n",
        "drawpoint = DrawPoint(-10,-20)\n",
        "drawpoint.draw()\n",
        "drawpoint.number(drawpoint.x)\n",
        "drawpoint.show()"
      ]
    },
    {
      "attachments": {},
      "cell_type": "markdown",
      "id": "d1249e1b",
      "metadata": {
        "id": "d1249e1b"
      },
      "source": [
        "## Files and Directories 📁"
      ]
    },
    {
      "attachments": {},
      "cell_type": "markdown",
      "id": "64f73fed",
      "metadata": {
        "heading_collapsed": true,
        "id": "64f73fed"
      },
      "source": [
        "### Read and write to a file"
      ]
    },
    {
      "cell_type": "code",
      "execution_count": null,
      "id": "8a8f1464",
      "metadata": {
        "ExecuteTime": {
          "end_time": "2022-01-07T04:22:06.487232Z",
          "start_time": "2022-01-07T04:22:06.484164Z"
        },
        "hidden": true,
        "id": "8a8f1464"
      },
      "outputs": [],
      "source": [
        "def read_file_content(file_name):\n",
        "    try:\n",
        "        with open(file_name, 'r') as file:\n",
        "            print(file.read())\n",
        "    except Exception as e:\n",
        "        print(\"unable to read File\")\n",
        "        print(e)\n",
        "read_file_content('res/test.txt')"
      ]
    },
    {
      "cell_type": "code",
      "execution_count": null,
      "id": "6f82c3e5",
      "metadata": {
        "ExecuteTime": {
          "end_time": "2022-01-07T04:22:15.320962Z",
          "start_time": "2022-01-07T04:22:15.317383Z"
        },
        "hidden": true,
        "id": "6f82c3e5"
      },
      "outputs": [],
      "source": [
        "def write_to_file(file_name, data):\n",
        "    try:\n",
        "        with open(file_name, 'w') as file:\n",
        "            file.write(data)\n",
        "    except Exception as e:\n",
        "        print(\"unable to read File\")\n",
        "        print(e)\n",
        "\n",
        "write_to_file('res/test.txt', 'Overwriting file')\n",
        "read_file_content('res/test.txt')"
      ]
    },
    {
      "cell_type": "code",
      "execution_count": null,
      "id": "21ad8e1c",
      "metadata": {
        "ExecuteTime": {
          "end_time": "2022-01-07T04:22:48.648651Z",
          "start_time": "2022-01-07T04:22:48.645043Z"
        },
        "hidden": true,
        "id": "21ad8e1c"
      },
      "outputs": [],
      "source": [
        "def write_to_file_improved(file_name, mode, data):\n",
        "    try:\n",
        "        with open(file_name, mode) as file:\n",
        "            file.write(data)\n",
        "    except Exception as e:\n",
        "        print(\"unable to read File\")\n",
        "        print(e)\n",
        "write_to_file_improved('res/test.txt', 'a','\\nadded new data')\n",
        "read_file_content('res/test.txt')"
      ]
    },
    {
      "attachments": {},
      "cell_type": "markdown",
      "id": "e343d4a6",
      "metadata": {
        "heading_collapsed": true,
        "id": "e343d4a6"
      },
      "source": [
        "### Iterate over files in directory"
      ]
    },
    {
      "cell_type": "code",
      "execution_count": null,
      "id": "56352c52",
      "metadata": {
        "ExecuteTime": {
          "end_time": "2022-01-06T06:30:28.567940Z",
          "start_time": "2022-01-06T06:30:28.565429Z"
        },
        "hidden": true,
        "id": "56352c52"
      },
      "outputs": [],
      "source": [
        "from pathlib import Path\n",
        "# p = Path('../')\n",
        "p = Path()\n",
        "print(p.exists())\n",
        "for file in p.glob('*.txt'):\n",
        "    print(file)\n",
        "\n",
        "###################################################\n",
        "# Challenge: move one directory up in path and    #\n",
        "# print the content of first .py file             #\n",
        "# Hint:                                           #\n",
        "# '.' represent current dir and '../' Parent      #\n",
        "# to find .py file use p.globe(\"*.py\") and then   #\n",
        "# print data by using one of above give functions #\n",
        "###################################################"
      ]
    },
    {
      "attachments": {},
      "cell_type": "markdown",
      "id": "2f0a5ce2",
      "metadata": {
        "ExecuteTime": {
          "end_time": "2022-01-06T06:04:17.573734Z",
          "start_time": "2022-01-06T06:04:17.571824Z"
        },
        "heading_collapsed": true,
        "id": "2f0a5ce2"
      },
      "source": [
        "## External packages 📤"
      ]
    },
    {
      "attachments": {},
      "cell_type": "markdown",
      "id": "bce65d3d",
      "metadata": {
        "heading_collapsed": true,
        "hidden": true,
        "id": "bce65d3d"
      },
      "source": [
        "### Numpy\n",
        "NumPy stands for Numerical Python.<br>\n",
        "NumPy is a Python library used for working with arrays.<br>\n",
        "It also has functions for working in domain of linear algebra, fourier transform, and matrices.<br>\n",
        "\n",
        "    In Python we have lists that serve the purpose of arrays, \n",
        "    but they are slow to process.\n",
        "    NumPy aims to provide an array object that is up to 50x faster\n",
        "    than traditional Python lists.\n",
        "    The array object in NumPy is called ndarray, it provides a lot \n",
        "    of supporting functions that make working with ndarray very easy.\n",
        "    Arrays are very frequently used in data science, where speed and \n",
        "    resources are very important.\n"
      ]
    },
    {
      "cell_type": "code",
      "execution_count": null,
      "id": "26ab2801",
      "metadata": {
        "ExecuteTime": {
          "end_time": "2022-01-06T06:26:36.437158Z",
          "start_time": "2022-01-06T06:26:36.435512Z"
        },
        "hidden": true,
        "id": "26ab2801"
      },
      "outputs": [],
      "source": [
        "import numpy as np"
      ]
    },
    {
      "attachments": {},
      "cell_type": "markdown",
      "id": "0b34d2d8",
      "metadata": {
        "hidden": true,
        "id": "0b34d2d8"
      },
      "source": [
        "1D and 2D Arrays"
      ]
    },
    {
      "cell_type": "code",
      "execution_count": null,
      "id": "89292053",
      "metadata": {
        "hidden": true,
        "id": "89292053"
      },
      "outputs": [],
      "source": [
        "x = np.array(100)\n",
        "x1 = [100]\n",
        "y = np.array([100])\n",
        "print(x,x1,y,sep='\\n')\n",
        "print(f\"Array-y, Shape:{y.shape} Dim:{y.ndim}\")\n",
        "print(f\"Array, x-type:{type(x)} x1-type:{type(x1)} y-type:{type(y)}\")"
      ]
    },
    {
      "cell_type": "code",
      "execution_count": null,
      "id": "4a87937a",
      "metadata": {
        "ExecuteTime": {
          "end_time": "2022-01-06T06:33:16.697945Z",
          "start_time": "2022-01-06T06:33:16.693620Z"
        },
        "collapsed": true,
        "hidden": true,
        "id": "4a87937a"
      },
      "outputs": [],
      "source": [
        "y = np.array([100,200])\n",
        "y1 = np.array([[100,200],[300,400]])\n",
        "print(f\"Array-y,y1, Shape:{y.shape} ,{y1.shape}\")\n",
        "print(f\"Array-y,y1, ndim:{y.ndim} ,{y1.ndim}\")\n",
        "print(y1[0][0])\n",
        "\n",
        "## Matrix -- rank 3 tensors\n",
        "y1 = np.array([ [   [100,200],\n",
        "                    [300,400] ],\n",
        "                [   [100,200],\n",
        "                    [300,400]] ])\n",
        "print(f\"Array-y1, Shape:{y1.shape} Dim,{y1.ndim}\")\n",
        "# Array Slicing\n",
        "print(y1[0][0][1])\n",
        "print(y1[0][:][:])\n",
        "print(y1[1][:][:])\n",
        "print(\"SUM array using numpy:\")\n",
        "print(y1.sum())\n",
        "print(\"get array mean using numpy:\")\n",
        "print(y1.mean())"
      ]
    },
    {
      "attachments": {},
      "cell_type": "markdown",
      "id": "AwCwJPuJqMu4",
      "metadata": {
        "id": "AwCwJPuJqMu4"
      },
      "source": [
        "generate Time series"
      ]
    },
    {
      "cell_type": "code",
      "execution_count": null,
      "id": "rS_Xe2FkqL7e",
      "metadata": {
        "id": "rS_Xe2FkqL7e"
      },
      "outputs": [],
      "source": [
        "import numpy as np\n",
        "def generate_time_series(batch_size, n_steps):\n",
        "    freq1, freq2, offsets1, offsets2 = np.random.rand(4, batch_size, 1)\n",
        "    time = np.linspace(0, 1, n_steps)\n",
        "    series = 0.5 * np.sin((time - offsets1) * (freq1 * 10 + 10))  #   wave 1\n",
        "    series += 0.2 * np.sin((time - offsets2) * (freq2 * 20 + 20)) # + wave 2\n",
        "    series += 0.1 * (np.random.rand(batch_size, n_steps) - 0.5)   # + noise\n",
        "    return series[..., np.newaxis].astype(np.float32)\n",
        "\n",
        "np.random.seed(42)\n",
        "\n",
        "n_steps = 50\n",
        "series = generate_time_series(10000, n_steps + 1)"
      ]
    },
    {
      "attachments": {},
      "cell_type": "markdown",
      "id": "a4e6375e",
      "metadata": {
        "heading_collapsed": true,
        "hidden": true,
        "id": "a4e6375e"
      },
      "source": [
        "### Pandas\n",
        "Pandas is a Python library used for working with data sets.<br>\n",
        "It has functions for analyzing, cleaning, exploring, and manipulating data.<br>\n",
        "The name \"Pandas\" has a reference to both \"Panel Data\", and \"Python Data Analysis\" and was created by Wes McKinney in 2008.<br>\n",
        "Usage:<br>\n",
        "\n",
        "     - Is there a correlation between two or more columns?\n",
        "     - What is average value?\n",
        "     - Max value?\n",
        "     - Min value?\n"
      ]
    },
    {
      "attachments": {},
      "cell_type": "markdown",
      "id": "741649f9",
      "metadata": {
        "hidden": true,
        "id": "741649f9"
      },
      "source": [
        "Import Pandas"
      ]
    },
    {
      "cell_type": "code",
      "execution_count": null,
      "id": "e0a2cf78",
      "metadata": {
        "hidden": true,
        "id": "e0a2cf78"
      },
      "outputs": [],
      "source": [
        "import numpy as np\n",
        "import pandas as pd\n",
        "##object creation\n",
        "s = pd.Series([1,2,3,4,np.nan,6,7])\n",
        "print(s)"
      ]
    },
    {
      "cell_type": "code",
      "execution_count": null,
      "id": "e19385b8",
      "metadata": {
        "ExecuteTime": {
          "end_time": "2022-01-06T06:16:05.617779Z",
          "start_time": "2022-01-06T06:16:05.598491Z"
        },
        "hidden": true,
        "id": "e19385b8"
      },
      "outputs": [],
      "source": [
        "dates = pd.date_range('20220110',periods=5)\n",
        "print(dates)"
      ]
    },
    {
      "cell_type": "code",
      "execution_count": null,
      "id": "e932f1b6",
      "metadata": {
        "ExecuteTime": {
          "end_time": "2022-01-06T06:16:08.844472Z",
          "start_time": "2022-01-06T06:16:08.652433Z"
        },
        "collapsed": true,
        "hidden": true,
        "id": "e932f1b6"
      },
      "outputs": [],
      "source": [
        "### dataframe\n",
        "df = pd.DataFrame(np.random.randn(5,5),index=dates,columns=list('ABCDE'))\n",
        "print(df.info())\n",
        "print(df.head())\n",
        "print('pandas to numpy array', df.to_numpy())"
      ]
    },
    {
      "cell_type": "code",
      "execution_count": null,
      "id": "608641b4",
      "metadata": {
        "ExecuteTime": {
          "end_time": "2022-01-06T06:16:14.229294Z",
          "start_time": "2022-01-06T06:16:14.222674Z"
        },
        "collapsed": true,
        "hidden": true,
        "id": "608641b4"
      },
      "outputs": [],
      "source": [
        "df2 = pd.DataFrame(\n",
        "    {\n",
        "        \"A\": 1.0,\n",
        "        \"B\": pd.Timestamp(\"20220110\"),\n",
        "        \"C\": pd.Series(1, index=list(range(4)), dtype=\"float32\"),\n",
        "        \"D\": np.array([3] * 4, dtype=\"int32\"),\n",
        "        \"E\": pd.Categorical([\"test\", \"train\", \"test\", \"train\"]),\n",
        "        \"F\": \"foo\",\n",
        "    }\n",
        ")\n",
        "\n",
        "print(df2.tail(2))\n",
        "print(df2.columns)"
      ]
    },
    {
      "attachments": {},
      "cell_type": "markdown",
      "id": "0316e135",
      "metadata": {
        "ExecuteTime": {
          "end_time": "2022-01-06T06:34:24.839766Z",
          "start_time": "2022-01-06T06:34:24.837943Z"
        },
        "hidden": true,
        "id": "0316e135"
      },
      "source": [
        "### Matplot lib \n",
        "Matplotlib is a low level graph plotting library in python that serves as a visualization utility.<br>\n",
        "Matplotlib was created by John D. Hunter.<br>\n",
        "Matplotlib is open source and we can use it freely.<br>"
      ]
    },
    {
      "cell_type": "code",
      "execution_count": null,
      "id": "91044916",
      "metadata": {
        "ExecuteTime": {
          "end_time": "2022-01-06T06:40:12.734497Z",
          "start_time": "2022-01-06T06:40:12.647034Z"
        },
        "hidden": true,
        "id": "91044916"
      },
      "outputs": [],
      "source": [
        "%matplotlib inline\n",
        "import matplotlib.pyplot as plt\n",
        "import numpy as np\n",
        "from math import sin, cos\n",
        "xpoints = np.array(range(1,30))\n",
        "ypoints = []\n",
        "for i in xpoints:\n",
        "    ypoints.append(sin(i))\n",
        "# try using list comprehention \n",
        "# ypoints = [sin(ypoint) for ypoint in xpoints]\n",
        "plt.plot(xpoints, ypoints)\n",
        "plt.show()"
      ]
    },
    {
      "attachments": {},
      "cell_type": "markdown",
      "id": "oyJX5s2Rpy9J",
      "metadata": {
        "id": "oyJX5s2Rpy9J"
      },
      "source": [
        "#### Plot model loss"
      ]
    },
    {
      "cell_type": "code",
      "execution_count": null,
      "id": "0SMNJIlep4O8",
      "metadata": {
        "id": "0SMNJIlep4O8"
      },
      "outputs": [],
      "source": [
        "from matplotlib import pyplot as plt\n",
        "def plot_series(series, y=None, y_pred=None, x_label=\"$t$\", y_label=\"$x(t)$\"):\n",
        "    plt.plot(series, \".-\")\n",
        "    if y is not None:\n",
        "        plt.plot(n_steps, y, \"bx\", markersize=10)\n",
        "    if y_pred is not None:\n",
        "        plt.plot(n_steps, y_pred, \"ro\")\n",
        "    plt.grid(True)\n",
        "    if x_label:\n",
        "        plt.xlabel(x_label, fontsize=16)\n",
        "    if y_label:\n",
        "        plt.ylabel(y_label, fontsize=16, rotation=0)\n",
        "    plt.hlines(0, 0, 100, linewidth=1)\n",
        "    plt.axis([0, n_steps + 1, -1, 1])\n",
        "\n",
        "fig, axes = plt.subplots(nrows=1, ncols=3, sharey=True, figsize=(12, 4))\n",
        "np.random.seed(42)\n",
        "n_steps = 50\n",
        "series = generate_time_series(10000, n_steps + 1)\n",
        "X_train, y_train = series[:7000, :n_steps], series[:7000, -1]\n",
        "X_valid, y_valid = series[7000:9000, :n_steps], series[7000:9000, -1]\n",
        "X_test, y_test = series[9000:, :n_steps], series[9000:, -1]\n",
        "for col in range(3):\n",
        "    plt.sca(axes[col])\n",
        "    plot_series(X_valid[col, :, 0], y_valid[col, 0],\n",
        "                y_label=(\"$x(t)$\" if col==0 else None))\n",
        "plt.show()"
      ]
    },
    {
      "attachments": {},
      "cell_type": "markdown",
      "id": "3521227a",
      "metadata": {},
      "source": [
        "## PyTorch API  \n",
        "<table class=\"tfo-notebook-buttons\" align=\"right\" style=\"margin-top:-55px\">\n",
        "<td>\n",
        "      <a target=\"_blank\" href=\"https://pytorch.org/docs/stable/torch.html\"><CNTER> <img src=\"https://pytorch.org/assets/images/logo.svg\"  width=\"100\" /><p style='margin-left:12px'></p></CENTER></a>\n",
        "  </td>\n",
        " </table>"
      ]
    },
    {
      "attachments": {},
      "cell_type": "markdown",
      "id": "15f2f8f1",
      "metadata": {},
      "source": [
        "Pytorch Tensors\n",
        "===============\n",
        "\n",
        "The first big trick for doing math fast on a modern computer is to do giant array operations all at once.\n",
        "\n",
        "To faciliate this, pytorch provides a [`torch.Tensor`](https://pytorch.org/docs/stable/tensors.html) class that is a lookalike to the older python numerical library [`numpy.ndarray`](https://numpy.org/doc/stable/reference/arrays.ndarray.html).  Just like a numpy `ndarray`, the pytorch `Tensor` stores a d-dimensional array of numbers, where d can be zero or more, and where the contained numbers can be any of the usual selection of float or integer types.  Pytorch is designed to feel just like numpy: almost all the numpy operations are also available on torch tensors. But if something is missing, torch tensors can be directly converted to and from numpy using `x.numpy()` and `torch.from_numpy(a)`. So what is different and why did the pytorch authors bother to reimplement this whole library?\n",
        "\n",
        "**There are two things that pytorch Tensors have that numpy arrays lack:**\n",
        "\n",
        " 1. pytorch Tensors can live on either **GPU or CPU** (numpy is cpu-only).\n",
        " 2. pytorch can automatically track tensor computations to enable **automatic differentiation**.\n",
        "\n",
        "In the following sections on this page we talk about the basics of the Tensor API as well as point (1) - how to work with GPU and CPU tensors.\n"
      ]
    },
    {
      "cell_type": "code",
      "execution_count": 3,
      "id": "80b5c53a",
      "metadata": {},
      "outputs": [
        {
          "name": "stdout",
          "output_type": "stream",
          "text": [
            "tensor([0.0000, 0.0500, 0.1000, 0.1500, 0.2000])\n",
            "TODO\n"
          ]
        }
      ],
      "source": [
        "import math, numpy, torch\n",
        "from matplotlib import pyplot as plt\n",
        "\n",
        "# Make a vector of 101 equally spaced numbers from 0 to 5.\n",
        "x = torch.linspace(0, 5, 101)\n",
        "\n",
        "# Print the first five things in x.\n",
        "print(x[:5])\n",
        "\n",
        "# exercise Print the last five things in x.\n",
        "# TODO: Print the last five things in x (instead of the first five)\n",
        "\n",
        "print('TODO')"
      ]
    },
    {
      "attachments": {},
      "cell_type": "markdown",
      "id": "03c906be",
      "metadata": {},
      "source": [
        "## vector computations"
      ]
    },
    {
      "cell_type": "code",
      "execution_count": null,
      "id": "8955cd70",
      "metadata": {},
      "outputs": [],
      "source": [
        "y1, y2 = x.sin(), x ** x.cos()\n",
        "y3 = y2 - y1\n",
        "y4 = y3.min()\n",
        "\n",
        "# Print and plot some answers.\n",
        "print(f'The shape of x is {x.shape}')\n",
        "print(f'The shape of y1=x.sin() is {y1.shape}')\n",
        "print(f'The shape of y2=x ** x.cos() is {y2.shape}')\n",
        "print(f'The shape of y3=y2 - y1 is {y3.shape}')\n",
        "print(f'The shape of y4=y3.min() is {y4.shape}, a zero-d scalar')\n",
        "\n",
        "plt.plot(x, y1, 'red', x, y2, 'blue', x, y3, 'green')\n",
        "plt.axhline(y4, color='green', linestyle='--')\n",
        "plt.show()"
      ]
    },
    {
      "cell_type": "code",
      "execution_count": null,
      "id": "b999d73d",
      "metadata": {},
      "outputs": [],
      "source": [
        "# Exercise\n",
        "# Plot y3 clamped between 0.0 and 1.0.\n",
        "\n",
        "plt.plot('TODO')\n",
        "plt.show()"
      ]
    },
    {
      "attachments": {},
      "cell_type": "markdown",
      "id": "611f1a09",
      "metadata": {},
      "source": [
        "## CPU VS GPU "
      ]
    },
    {
      "attachments": {},
      "cell_type": "markdown",
      "id": "e0bdec46",
      "metadata": {},
      "source": [
        "One of the big reasons to use pytorch instead of numpy is that pytorch can do computations on the GPU.  But because moving data on and off of a GPU device is more expensive than keeping it within the device, pytorch treats a Tensor's **computing device** as pseudo-type that requires explicit declaration and explicit conversion.  Here are some things to know about pytorch devices and types:\n",
        "\n",
        "**Single precision CPU default.** By default a torch tensor will be stored on the CPU and will store single-precision 32-bit `torch.float` values.\n",
        "\n",
        "**Specifying data type.** To store a different data type such as integers, use the argument `dtype=torch.long` when you create the Tensor.  For example, `z = torch.zeros(10, dtype=torch.long)`.  This is similar to numpy with minor differences.  See the [Tensor reference](https://pytorch.org/docs/stable/tensors.html) for all the types.\n",
        "\n",
        "**Specifying GPU.** To store the tensor on the GPU, specify `device='cuda'` when you make it, for example `identity_matrix = torch.eye(5, device='cuda')`.  (Instead `device='cpu'` indicates the default CPU storage).\n",
        "\n",
        "Even on a multi-GPU machine it is fine to pretend there is only one GPU.  Setting the environment variable `CUDA_VISIBLE_DEVICES=3` before you start the program will set up the process to see GPU\\#3 as the only visible GPU when it runs.\n",
        "\n",
        "As an aside, in principle you could instead target one of many GPUs with `device='cuda:3'`, but if you want to use multiple GPUs for the same computation your best bet is to a use a multiprocess utility class that manages data distribution between forked processes automatically, while each python process touches only one GPU.  When this becomes an issue, read the [DistributedDataParalllel docs](https://pytorch.org/docs/stable/distributed.html).\n",
        "\n",
        "**Copying a tensor to a different device or type.** You cannot directly combine tensors that are on different devices (e.g., GPU vs CPU or different GPUs); this is similar to how most different-data-type combinations are also prohibited. In both cases you will need to convert types and move devices explicitly to make tensors compatible before combining them.  The `x.to(y.device)` or `x.to(y.dtype)` function can be used to do the conversion.\n",
        "\n",
        "There are also commonly-used convenience synonyms `x.cpu()`, `x.cuda()`, `x.float()`, `x.long()`, etc. for making a copy of `x` with the specified device or type.  There is a bit of cost, so move data only when needed.\n",
        "\n",
        "**GPU rounding is nondeterministic.** Computationally the GPU is **not** perfectly equivalent to the CPU.  To speed parallelization, the GPU does not do associative operations such as summations in a deterministic sequential order.  Since changing the order of summations can alter rounding behavior in fixed-precision arithmetic, GPU rounding can be  different from CPU results an even nondeterministic.  When the numerical algorithm is well-behaved, the difference should be small enough that you do not care, but you should know it is different. You can see this gap in the code example below.\n",
        "\n",
        "**float is fastest.** All commodity GPU hardware is fast at single-precision 32-bit floating-point math, about 20x CPU speed.  Be aware that only expensive cards are fast at 64-bit double-precision math. If you change `torch.float` in the below example to `torch.double` on an Nvidia Titan or consumer card without hardware double-precision support, you will slow down to just-slightly-faster-than-CPU speeds.  Similarly 16-bit `torch.half` or `torch.bfloat16` or other cool options will only be faster on newer hardware, and with these data types you need to take care that the reduced precision is not damaging your results.\n",
        "\n",
        "So `float` is the default and usually the best.\n",
        "\n",
        "Also note that some operations (like linear algebra) are floating-point only and cannot be done on integers.\n",
        "\n",
        "An example of some CPU versus GPU speed comparisons is below."
      ]
    },
    {
      "cell_type": "code",
      "execution_count": 5,
      "id": "8d4a8b1b",
      "metadata": {},
      "outputs": [
        {
          "name": "stdout",
          "output_type": "stream",
          "text": [
            "time using the CPU alone: 1.37 seconds\n",
            "time using GPU, moving data from CPU: 0.435 seconds\n",
            "time using GPU on pinned CPU memory: 0.237 seconds\n",
            "time using the GPU alone: 0.14 seconds\n"
          ]
        },
        {
          "data": {
            "image/png": "[encoded data removed]",
            "text/plain": [
              "<Figure size 600x300 with 1 Axes>"
            ]
          },
          "metadata": {},
          "output_type": "display_data"
        },
        {
          "name": "stdout",
          "output_type": "stream",
          "text": [
            "Your GPU is 9.77x faster than CPU but only 3.14x if data is repeatedly copied from the CPU\n",
            "When copying from pinned memory, speedup is 5.77x\n",
            "Numerical differences between GPU and CPU: 5.85168095312838e-07\n"
          ]
        }
      ],
      "source": [
        "import torch, time\n",
        "from matplotlib import pyplot as plt\n",
        "\n",
        "# Here is a demonstration of moving data between GPU and CPU.\n",
        "# We multiply a batch of vectors through a big linear opeation 10 times\n",
        "r = torch.randn(1024, 1024, dtype=torch.float)\n",
        "x = torch.randn(32768, 1024, dtype=r.dtype)\n",
        "iterations = 10\n",
        "\n",
        "def time_iterated_mm(x, matrix):\n",
        "    start = time.time()\n",
        "    result = 0\n",
        "    for i in range(iterations):\n",
        "        result += torch.mm(matrix, x.to(matrix.device).t())\n",
        "    torch.cuda.synchronize()\n",
        "    elapsed = time.time() - start\n",
        "    return elapsed, result.cpu()\n",
        "\n",
        "cpu_time, cpu_result = time_iterated_mm(x.cpu(), r.cpu())\n",
        "print(f'time using the CPU alone: {cpu_time:.3g} seconds')\n",
        "\n",
        "mixed_time, mixed_result = time_iterated_mm(x.cpu(), r.cuda())\n",
        "print(f'time using GPU, moving data from CPU: {mixed_time:.3g} seconds')\n",
        "\n",
        "pinned_time, pinned_result = time_iterated_mm(x.cpu().pin_memory(), r.cuda())\n",
        "print(f'time using GPU on pinned CPU memory: {pinned_time:.3g} seconds')\n",
        "\n",
        "gpu_time, gpu_result = time_iterated_mm(x.cuda(), r.cuda())\n",
        "print(f'time using the GPU alone: {gpu_time:.3g} seconds')\n",
        "\n",
        "plt.figure(figsize=(4,2), dpi=150)\n",
        "plt.ylabel('iterations per sec')\n",
        "plt.bar(['cpu', 'mixed', 'pinned', 'gpu'],\n",
        "        [iterations/cpu_time,\n",
        "         iterations/mixed_time,\n",
        "         iterations/pinned_time,\n",
        "         iterations/gpu_time])\n",
        "plt.show()\n",
        "\n",
        "print(f'Your GPU is {cpu_time / gpu_time:.3g}x faster than CPU'\n",
        "      f' but only {cpu_time / mixed_time:.3g}x if data is repeatedly copied from the CPU')\n",
        "print(f'When copying from pinned memory, speedup is {cpu_time / pinned_time:.3g}x')\n",
        "print(f'Numerical differences between GPU and CPU: {(cpu_result - gpu_result).norm() / cpu_result.norm()}')"
      ]
    },
    {
      "cell_type": "code",
      "execution_count": null,
      "id": "2a240900",
      "metadata": {},
      "outputs": [],
      "source": [
        "# Excercise\n",
        "\n",
        "# Repeat the benchmark using type torch.double.\n",
        "# Hint TO make double use torch.randn(1024, 1024, dtype=torch.double)\n",
        "r = 'TODO'\n",
        "x = torch.randn(32768, 1024, dtype=r.dtype)\n",
        "\n",
        "# Benchmark and plot\n",
        "gpu_time, gpu_result = time_iterated_mm(x.cuda(), r.cuda())\n",
        "print(f'time using the GPU alone: {gpu_time:.3g} seconds')\n",
        "\n",
        "plt.figure(figsize=(4,2), dpi=150)\n",
        "plt.ylabel('iterations per sec')\n",
        "plt.bar(['gpu'],\n",
        "        [iterations/gpu_time])\n",
        "plt.show()"
      ]
    },
    {
      "attachments": {},
      "cell_type": "markdown",
      "id": "ac2d8488",
      "metadata": {},
      "source": [
        "Tensor dimension & Ordering conventions\n",
        "---------------------------------------------\n",
        "\n",
        "**Multidimensional data convention.** As soon as you have more than one dimension, you need to decide how to order the axes.  To reduce confusion, most data processing follows the same global convention. In particular, much image-related data in pytorch is four dimensional, and the dimensions are ordered like this: \n",
        "\n",
        "`data[batch_index, channel_index, y_position, x_position]`, \n",
        "\n",
        "that is:\n",
        "\n",
        "* Dim 0 is used for batch.\n",
        "* Dim 1 indexes channels within an image representation \n",
        "* Dim 2 indexes the row position\n",
        "* Dim 3 indexes the column position\n",
        "\n",
        "There a way to remember this ordering: adjacent entries that vary only in the last dimensions are stored physically closer in RAM; since they are often combined with each other, this could help with locality, whereas the first (batch) dimension usually just groups separate independent data points which are not combined much, so they do not need to be physically close.\n",
        "\n",
        "Stream-oriented data without grid geometry will drop the last dimensions, and 3d grid data will be 5-dimensional, adding a depth z before y.  This same 4d-axis ordering convention is also seen in caffe and tensorflow.\n",
        "\n",
        "**Permute and view reshape an array without moving memory.** The `permute` and `view` methods are useful for rearranging, flattening, and unflatteneing axes. `x.permute(1,0,2,3).view(x.shape[1], -1)`.  They just alter the view of the block of numbers in memory without moving any of the numbers around, so they are fast.\n",
        "\n",
        "**Reshaping sometimes needs copying.** Some sequences of axis permutations and flattenings cannot be done without copying the data into the new order in memory; the `x.contiguous()` method copies the data iinto the natural order given by the current view; also `x.reshape()` is similar to `view` but will makea copy if necessary so you do not need to think about it.  See [the Tensor.view method documentation](https://pytorch.org/docs/master/tensors.html#torch.Tensor.view).\n"
      ]
    },
    {
      "cell_type": "code",
      "execution_count": null,
      "id": "564983b7",
      "metadata": {},
      "outputs": [],
      "source": [
        "# TODO: Repeat the benchmark using type torch.double.\n",
        "# Hint TO make double use torch.randn(1024, 1024, dtype=torch.double)\n",
        "r = 'TODO'\n",
        "x = torch.randn(32768, 1024, dtype=r.dtype)\n",
        "\n",
        "# Benchmark and plot\n",
        "gpu_time, gpu_result = time_iterated_mm(x.cuda(), r.cuda())\n",
        "print(f'time using the GPU alone: {gpu_time:.3g} seconds')\n",
        "\n",
        "plt.figure(figsize=(4,2), dpi=150)\n",
        "plt.ylabel('iterations per sec')\n",
        "plt.bar(['gpu'],\n",
        "        [iterations/gpu_time])\n",
        "plt.show()"
      ]
    },
    {
      "attachments": {},
      "cell_type": "markdown",
      "id": "9z4IAPmbFwF0",
      "metadata": {
        "id": "9z4IAPmbFwF0"
      },
      "source": [
        "## Tips and Advance concepts 👇\n",
        "\n"
      ]
    },
    {
      "attachments": {},
      "cell_type": "markdown",
      "id": "94sPkaNooTyP",
      "metadata": {
        "id": "94sPkaNooTyP"
      },
      "source": [
        "### List of functions 🤯\n",
        "\n",
        "in python we can use lists to store functions as an element and when needed call a specific function by getting it from specified index.\n",
        "This kind of techique is good for functions having same signature.\n",
        "\n",
        "*   Can be helpful to reduce unwante ifelse ledder\n",
        "*   Should ony be used for code having little to no interaction wiht user's input \n",
        "*    also littlebit difficult to debug.\n",
        "\n",
        "<b> Remember index always starts at 0 (Except for some people who use matlab 🥶) \n",
        "\n"
      ]
    },
    {
      "cell_type": "code",
      "execution_count": null,
      "id": "YitjGQT4oOGT",
      "metadata": {
        "id": "YitjGQT4oOGT"
      },
      "outputs": [],
      "source": [
        "# class UNDEFIEDOPERATION is derived from super class Exception\n",
        "# to make it easy for debuggin messy code wiht little effort.\n",
        "class UNDEFIEDOPERATION(Exception):\n",
        "    # Constructor or Initializer\n",
        "    def __init__(self, message='Undefinde operation'):\n",
        "        self.message = message\n",
        " \n",
        "    # __str__ is to print() the value\n",
        "    def __str__(self):\n",
        "        return(repr(self.message))\n",
        "class OPCODE:\n",
        "    ADD = 0\n",
        "    SUB = 1\n",
        "    MUL = 2\n",
        "    \n",
        "def add(num1, num2):\n",
        "    return num1 + num2\n",
        "def subtract(num1, num2):\n",
        "    return num1 - num2\n",
        "def multiply(num1, num2):\n",
        "    return num1 * num2\n",
        "\n",
        "def calculate(num1, num2, opp_code):\n",
        "    if opp_code == OPCODE.ADD:\n",
        "        return add(num1, num2)\n",
        "    if opp_code == OPCODE.SUB:\n",
        "        return subtract(num1, num2)\n",
        "    if opp_code == OPCODE.MUL:\n",
        "        return multiply(num1, num2)\n",
        "\n",
        "def calculate_simplefied(num1, num2, opp_code):\n",
        "    if(opp_code >=3):\n",
        "        raise UNDEFIEDOPERATION()\n",
        "    function = [add, subtract, multiply]\n",
        "    return function[opp_code](num1, num2)\n"
      ]
    },
    {
      "cell_type": "code",
      "execution_count": null,
      "id": "ILupe2gNw1m_",
      "metadata": {
        "id": "ILupe2gNw1m_"
      },
      "outputs": [],
      "source": [
        "calculat_res = calculate(3, 4, OPCODE.SUB) \n",
        "print(f'Result = {calculat_res}')\n",
        "calculate_simplefied_res =  calculate_simplefied(3, 4, OPCODE.MUL)\n",
        "print(f'Result = {calculate_simplefied_res}')"
      ]
    },
    {
      "cell_type": "code",
      "execution_count": null,
      "id": "BXvlWchBoQrD",
      "metadata": {
        "id": "BXvlWchBoQrD"
      },
      "outputs": [],
      "source": [
        "# catch an undefined operations \n",
        "calculate_simplefied(3, 4, 4)"
      ]
    },
    {
      "attachments": {},
      "cell_type": "markdown",
      "id": "8LNYiJdhygSr",
      "metadata": {
        "id": "8LNYiJdhygSr"
      },
      "source": [
        "### Switch case statement in python 😉\n",
        "So by default python does not support switch case statemetns but dictionaries can be used in this regard to simulate switch statemtn.\n",
        "this process can optimize list of functions as it is easily manageable "
      ]
    },
    {
      "cell_type": "code",
      "execution_count": null,
      "id": "BSHVSAyBoQbS",
      "metadata": {
        "id": "BSHVSAyBoQbS"
      },
      "outputs": [],
      "source": [
        "def calculate_simplefied_switch_case(num1, num2, operation):\n",
        "    def default(num1, num2):\n",
        "        raise UNDEFIEDOPERATION()\n",
        "    switch ={\n",
        "        'add':add,\n",
        "        'sub':subtract,\n",
        "        'mul':multiply\n",
        "    }\n",
        "    return switch.get(operation, default)(num1, num2)"
      ]
    },
    {
      "cell_type": "code",
      "execution_count": null,
      "id": "fSQbyPj200Tf",
      "metadata": {
        "id": "fSQbyPj200Tf"
      },
      "outputs": [],
      "source": [
        "calculate_simplefied_switch_case(1, 2, 'mul')"
      ]
    },
    {
      "attachments": {},
      "cell_type": "markdown",
      "id": "2f26d735",
      "metadata": {},
      "source": [
        "Subscripts and multiple dimensions\n",
        "----------------------------------\n",
        "\n",
        "Pytorch code is full of multidimensional arrays.  The key to reading this kind of code is stopping to think about the careful, sometimes tangled, use of multiple array subscripts.\n",
        "\n",
        "**Slicing.** As normal in python, you can use `[min:max:stride]` to slice ranges, and multidimensional subscripts like `x[2,0,1,9]` work as you would expect (selecting the 9th entry of the of the 1st of the 0th of the 2nd entry of `x`; and can be used with slices like `x[0:3,2,:,:]`.  The special slice `:` selects the whole range in that dimension.\n",
        "\n",
        "**Unsqueezing to add a dimension, and broadcasting.** While a single integer subscript like `x[0]` eliminates a dimension, the special subscript `x[None]` does the reverse and adds an extra dimension of size one.\n",
        "\n",
        "An extra dimension of size one is more useful than you might imagine, because pytorch (similar to numpy) can combine different-shaped arrays as long as the shape differences appear only on dimensions of size one by **broadcasting** the singleton dimensions.  An example that uses broadcasting to calculate an outer product is illustrated below.\n",
        "\n",
        "**Fancy indexing.** Lots more can be done by passing numerical arrays or boolean array masks as subscripts.  The reshuffling possibilities can get quite intricate; the rules are modeled on the capabilties in numpy.  For details see [Numpy fancy indexing](https://numpy.org/doc/stable/user/basics.indexing.html).\n",
        "\n",
        "Here is a demonstration of simple tensor reshaping."
      ]
    },
    {
      "cell_type": "code",
      "execution_count": null,
      "id": "eeab18b9",
      "metadata": {},
      "outputs": [],
      "source": [
        "import torch\n",
        "from matplotlib import pyplot as plt\n",
        "\n",
        "# Make an array of normally distributed randoms.\n",
        "m = torch.randn(2, 5).abs()\n",
        "print(f'm is {m}, and m[1,2] is {m[1,2]}\\n')\n",
        "print(f'column zero, m[:,0] is {m[:,0]}')\n",
        "print(f'row zero m[0,:] is {m[0,:]}\\n')\n",
        "dot_product = (m[0,:] * m[1,:]).sum()\n",
        "print(f'The dot product of rows (m[0,:] * m[1,:]).sum() is {dot_product}\\n')\n",
        "outer_product = m[0,:][None,:] * m[1,:][:,None]\n",
        "print(f'The outer product of rows m[0,:][None,:] * m[1,:][:,None] is:\\n{outer_product}')\n",
        "\n",
        "fig, ((ax1, ax2), (ax3, ax4)) = plt.subplots(2, 2, figsize=(5, 5), dpi=100)\n",
        "def color_mat(ax, m, title):\n",
        "    ax.set_title(title)\n",
        "    ax.imshow(m, cmap='hot', vmax=1.5, interpolation='nearest')\n",
        "    ax.get_xaxis().set_ticks(range(m.shape[1]))\n",
        "    ax.get_yaxis().set_ticks(range(m.shape[0]))\n",
        "color_mat(ax1, m, 'm[:,:]')\n",
        "color_mat(ax2, m[0,:][None,:], 'm[0,:][None,:]')\n",
        "color_mat(ax3, m[1,:][:,None], 'm[1,:][:,None]')\n",
        "color_mat(ax4, outer_product, 'm[0,:][None,:] * m[1,:][:,None]')\n",
        "fig.tight_layout()\n",
        "fig.show()"
      ]
    },
    {
      "cell_type": "code",
      "execution_count": null,
      "id": "91526f3b",
      "metadata": {},
      "outputs": [],
      "source": [
        "# Exercise\n",
        "# Use torch.mm to compute outer_product and dot_product.\n",
        "\n",
        "outer = 'TODO'\n",
        "print(outer == outer_product)\n",
        "dot = 'TODO'\n",
        "print(dot == dot_product)"
      ]
    },
    {
      "attachments": {},
      "cell_type": "markdown",
      "id": "ea77ec87",
      "metadata": {},
      "source": [
        "## Einsum notation \n",
        "Matrix multiplication can be generalized to tensors of arbitrary number of dimensions, but keeping tensor dimensions straight can be confusing.  The solution to this is [Einstein notation](https://en.wikipedia.org/wiki/Einstein_notation): assign letter variables to each axis of the input tensors, and then explicitly write down which axes end up in the output tensor.  For example, an outer product might be written as `i, j -> ij`, whereas matrix multiplication could be `ij, jk -> ik`.\n",
        "\n",
        "Einstein notation is a topic of active development and programming language design: [here is a recent paper on the history and future of Einstein APIs.](https://openreview.net/pdf?id=oapKSVM2bcj)\n",
        "\n",
        "\n",
        "In pytorch, Einstein notation is available as `einsum`.  Here is how ordinary matrix multiplication looks as einsum:"
      ]
    },
    {
      "cell_type": "code",
      "execution_count": null,
      "id": "b47eb027",
      "metadata": {},
      "outputs": [],
      "source": [
        "A = torch.randn(2,5)\n",
        "B = torch.randn(5,3)\n",
        "\n",
        "# Uncomment to see ordinary matrix multiplication\n",
        "# print(torch.mm(A, B))\n",
        "\n",
        "# Ordinary matrix multiplication written as an einsum\n",
        "print(torch.einsum('ij, jk -> ik', A, B))"
      ]
    },
    {
      "attachments": {},
      "cell_type": "markdown",
      "id": "531fc63e",
      "metadata": {},
      "source": [
        "### Exercise\n",
        "\n",
        "Make A in the shape (5, 6, 2) and B in the shape (5, 6, 3); we can think of A as a 5x6 grid of 2-dimensional vectors and B as a 5x6 of 3-dimesnsional vectors.\n",
        "\n",
        "Covariances (un-normalized) of vectors in A and B could be computed by flattening and transposing the tensors into (2,30) and (30,3) matrices and then doing a matrix multiplication of these batches as follows:\n",
        "\n",
        "```\n",
        "print(torch.mm(A.reshape(30, 2).t(), B.reshape(30, 3)))\n",
        "```\n",
        "\n",
        "Instead use einsum to compute the same thing.\n"
      ]
    },
    {
      "cell_type": "code",
      "execution_count": null,
      "id": "f0f319fd",
      "metadata": {},
      "outputs": [],
      "source": [
        "# TODO: use einsum to compute a covariance statistic over vectors in A and B.\n",
        "A = torch.randn(5,6,2)\n",
        "B = torch.randn(5,6,3)\n",
        "\n",
        "\n",
        "print('TODO')"
      ]
    },
    {
      "attachments": {},
      "cell_type": "markdown",
      "id": "zTNyovJC-oAd",
      "metadata": {
        "id": "zTNyovJC-oAd"
      },
      "source": [
        "### Simple preceptron model 💡"
      ]
    },
    {
      "cell_type": "code",
      "execution_count": 2,
      "id": "nx0l_faQ-tSK",
      "metadata": {
        "id": "nx0l_faQ-tSK"
      },
      "outputs": [
        {
          "name": "stdout",
          "output_type": "stream",
          "text": [
            "[[-8.98532417]\n",
            " [ 1.03356601]] -1.3206172447729514\n",
            "Accuracy=  98.0 %\n"
          ]
        },
        {
          "data": {
            "image/png": "[encoded data removed]",
            "text/plain": [
              "<Figure size 640x480 with 2 Axes>"
            ]
          },
          "metadata": {},
          "output_type": "display_data"
        },
        {
          "name": "stdout",
          "output_type": "stream",
          "text": [
            "[[-0.07884439]\n",
            " [-0.0118095 ]] -0.04\n",
            "Accuracy=  89.0 %\n"
          ]
        },
        {
          "data": {
            "image/png": "[encoded data removed]",
            "text/plain": [
              "<Figure size 640x480 with 2 Axes>"
            ]
          },
          "metadata": {},
          "output_type": "display_data"
        }
      ],
      "source": [
        "### LinearClassifier Example with perceptron training etc\n",
        "###\n",
        "from sklearn.datasets import make_classification\n",
        "from sklearn.datasets import make_circles\n",
        "import numpy as np\n",
        "import matplotlib.pyplot as plt\n",
        "\n",
        "\n",
        "class LinearClassifier:\n",
        "    def __init__(self):\n",
        "        pass\n",
        "    def sigmoid(self,z):\n",
        "        return 1.0/(1. + np.exp(-z))\n",
        "\n",
        "    def loss(self,y,y_ht):\n",
        "        loss =  -np.mean( y*(np.log(y_ht)) - (1-y)*np.log(1-y_ht) )\n",
        "        return loss\n",
        "\n",
        "    def gradient(self,x,y,y_ht):\n",
        "        m = x.shape[0]\n",
        "        dw = (1/m)*np.dot(x.T,(y_ht-y)) #wrt w\n",
        "        db = (1/m)*np.sum((y_ht-y)) # wrt bias\n",
        "        return dw,db \n",
        "\n",
        "    def plot_dec_boundry(self,x,w,b,y,debug):\n",
        "        x1 = [min(x[:,0]), max(x[:,0])]\n",
        "        m = -w[0]/w[1]\n",
        "        c = -b/w[1]\n",
        "        x2 = m*x1 + c\n",
        "        plt.plot(x[:,0][y==0], x[:,1][y==0],'r^')\n",
        "        plt.plot(x[:,0][y==1], x[:,1][y==1],'bs')\n",
        "        plt.plot(x1,x2,'y-')\n",
        "        if debug:\n",
        "            plt.show()\n",
        "\n",
        "    def normalize(self,x):\n",
        "        m,n = x.shape   #m : trg exmple, n: features\n",
        "        for i in range(n):\n",
        "            x = (x - x.mean(axis=0))/x.std(axis=0)\n",
        "        return x    \n",
        "\n",
        "    def train(self, x,y,bs,epochs,lr):\n",
        "        m,n = x.shape\n",
        "        w = np.zeros((n,1))  ## or random ?\n",
        "        b = 0\n",
        "        y = y.reshape(m,1)\n",
        "        x = self.normalize(x)\n",
        "\n",
        "        losses = []\n",
        "\n",
        "        for epoch in range(epochs):\n",
        "            for i in range((m-1)//bs+1):\n",
        "                start_i = i*bs\n",
        "                end_i = start_i + bs\n",
        "                xb = x[start_i:end_i]\n",
        "                yb = y[start_i:end_i]\n",
        "\n",
        "                y_ht = self.sigmoid(np.dot(xb,w)+b)\n",
        "\n",
        "                dw,db = self.gradient(xb,yb,y_ht)\n",
        "\n",
        "                w -=lr*dw\n",
        "                b -=lr*db\n",
        "\n",
        "            l = self.loss(y,self.sigmoid(np.dot(x,w)+b))\n",
        "            losses.append(l)\n",
        "            # self.plot_dec_boundry(x,w,b,y,1)\n",
        "\n",
        "        return w,b,losses\n",
        "\n",
        "    def step_func(self,z):\n",
        "        return 1.0 if (z > 0) else 0.0\n",
        "\n",
        "    def percep_train(self,x, y, epochs, lr):\n",
        "    \n",
        "        m, n = x.shape\n",
        "        \n",
        "        w = np.zeros((n+1,1))   ## weight plus bias\n",
        "        \n",
        "        losses = []\n",
        "        \n",
        "        for epoch in range(epochs):\n",
        "            n_miss = 0\n",
        "            for idx, x_i in enumerate(x):\n",
        "                x_i = np.insert(x_i, 0, 1).reshape(-1,1)\n",
        "                y_hat = self.step_func(np.dot(x_i.T, w))\n",
        "          \n",
        "                if (np.squeeze(y_hat) - y[idx]) != 0:\n",
        "                    w += lr*((y[idx] - y_hat)*x_i)\n",
        "                    n_miss += 1\n",
        "       \n",
        "            losses.append(n_miss)\n",
        "            \n",
        "        return np.array([ [w[1][0]],[w[2][0]] ]),w[0][0], losses\n",
        "    \n",
        "\n",
        "    def predict(self,x,w,b):\n",
        "\n",
        "        x = self.normalize(x)\n",
        "        preds = self.sigmoid((np.dot(x,w)+b))\n",
        "        pred_class = []\n",
        "\n",
        "        pred_class = [1 if i>0.5 else 0 for i in preds]\n",
        "\n",
        "        return np.array(pred_class)\n",
        "    \n",
        "    def accuracy(self,y, y_ht):\n",
        "        accuracy = np.sum(y == y_ht) / len(y)\n",
        "        return accuracy\n",
        "\n",
        "\n",
        "x,Y = make_classification(n_features=2,n_classes=2,n_samples=100,n_redundant=0,n_clusters_per_class=1)\n",
        "# x,Y = make_circles(n_samples=100,noise=0.03,factor=0.7)\n",
        "\n",
        "p = LinearClassifier()\n",
        "w,b,loss = p.train(x,Y,bs=10,epochs=9000,lr=0.01)\n",
        "print(w,b)\n",
        "class_pred = p.predict(x,w,b)\n",
        "print('Accuracy= ',p.accuracy(Y,class_pred) * 100,'%')\n",
        "plt.subplot(1,2,1)\n",
        "p.plot_dec_boundry(x,w,b,Y,0)\n",
        "plt.subplot(1,2,2)\n",
        "plt.plot(loss)\n",
        "plt.suptitle(['Accuray' + str(p.accuracy(Y,class_pred) * 100)])\n",
        "plt.show()\n",
        "\n",
        "w1,b1,loss1 = p.percep_train(x,Y,epochs=1000,lr=0.01)\n",
        "print(w1,b1)\n",
        "\n",
        "class_pred = p.predict(x,w1,b1)\n",
        "print('Accuracy= ',p.accuracy(Y,class_pred) * 100,'%')\n",
        "\n",
        "plt.subplot(1,2,1)\n",
        "p.plot_dec_boundry(x,w1,b1,Y,0)\n",
        "plt.subplot(1,2,2)\n",
        "plt.plot(loss1)\n",
        "plt.suptitle(['Accuray' + str(p.accuracy(Y,class_pred) * 100)])\n",
        "plt.show()\n"
      ]
    },
    {
      "attachments": {},
      "cell_type": "markdown",
      "id": "aa7f7c71",
      "metadata": {
        "id": "aa7f7c71"
      },
      "source": [
        "## Save and Close"
      ]
    },
    {
      "cell_type": "code",
      "execution_count": null,
      "id": "7c1ba051",
      "metadata": {
        "ExecuteTime": {
          "end_time": "2022-01-06T08:01:26.053621Z",
          "start_time": "2022-01-06T08:01:26.032301Z"
        },
        "id": "7c1ba051"
      },
      "outputs": [],
      "source": [
        "%%javascript\n",
        "IPython.notebook.save_checkpoint();\n",
        "window.onbeforeunload = null\n",
        "window.close();\n",
        "IPython.notebook.session.delete();"
      ]
    }
  ],
  "metadata": {
    "colab": {
      "collapsed_sections": [
        "aa7f7c71"
      ],
      "name": "SESSION_02.ipynb",
      "provenance": []
    },
    "kernelspec": {
      "display_name": "Python 3 (ipykernel)",
      "language": "python",
      "name": "python3"
    },
    "language_info": {
      "codemirror_mode": {
        "name": "ipython",
        "version": 3
      },
      "file_extension": ".py",
      "mimetype": "text/x-python",
      "name": "python",
      "nbconvert_exporter": "python",
      "pygments_lexer": "ipython3",
      "version": "3.8.8"
    },
    "toc": {
      "base_numbering": 1,
      "nav_menu": {},
      "number_sections": false,
      "sideBar": true,
      "skip_h1_title": false,
      "title_cell": "Table of Contents",
      "title_sidebar": "Contents",
      "toc_cell": false,
      "toc_position": {},
      "toc_section_display": true,
      "toc_window_display": true
    },
    "varInspector": {
      "cols": {
        "lenName": 16,
        "lenType": 16,
        "lenVar": 40
      },
      "kernels_config": {
        "python": {
          "delete_cmd_postfix": "",
          "delete_cmd_prefix": "del ",
          "library": "var_list.py",
          "varRefreshCmd": "print(var_dic_list())"
        },
        "r": {
          "delete_cmd_postfix": ") ",
          "delete_cmd_prefix": "rm(",
          "library": "var_list.r",
          "varRefreshCmd": "cat(var_dic_list()) "
        }
      },
      "types_to_exclude": [
        "module",
        "function",
        "builtin_function_or_method",
        "instance",
        "_Feature"
      ],
      "window_display": false
    }
  },
  "nbformat": 4,
  "nbformat_minor": 5
}
